{
 "cells": [
  {
   "cell_type": "markdown",
   "metadata": {},
   "source": [
    "## Unidade 01 - Avaliação 01\n",
    "\n",
    "- **Aluno**: Ailson Forte dos Santos\n",
    "- **Matrícula**: 2016041269\n",
    "\n",
    "<br>\n",
    "<div class=\"alert alert-info\">\n",
    "<b>Avisos.</b>\n",
    "</div>\n",
    "\n",
    "1. O conceito desta avaliação corresponde a **40% da primera unidade**. Os assuntos aqui abordados fazem menção as sete primeiras aulas do curso.\n",
    "2. O notebook deverá ser renomeado para o nome completo do aluno seguindo o formato: Ivanovitch_Medeiros_Dantas_da_Silva.ipynb\n",
    "3. Todas as questões devem ser respondidas através de códigos escritos em linguagem Python e no espaço destinado para esse fim. Criem células Markdown para destacar quando inicia e termina as questões. \n",
    "4. O notebook resultante deverá ser enviado através do Sigaa conforme tarefa cadastrada pelo professor. Ressalta-se que após o horário de final da aula, a submissão da tarefa estará fechada no Sigaa. \n",
    "5. O arquivo da base de dados não deve ser alterado. "
   ]
  },
  {
   "cell_type": "markdown",
   "metadata": {},
   "source": [
    "## Base de dados\n",
    "\n",
    "Nessa avaliação será utilizado a base de dados referente ao desempenho dos alunos do Instituto Metropole Digital em disciplinas do núcleo comum do curso de Bacharelado em Tecnologia da Informação. As informações sobre os alunos e disciplinas estão codificadas a fim de manter o anonimato e privacidade dos dados. \n",
    "\n",
    "A base de dados está em formato de planilha em excel. Para carregar esse arquivo em formato de **dataframe** utilizar o código abaixo: \n",
    "\n",
    ">```python\n",
    "# Importar as bibliotecas necessárias\n",
    "import pandas as pd\n",
    "# Atribuir o nome da planilha para a variável \"arquivo\"\n",
    "arquivo = 'imd_notas.xlsx'\n",
    "# Carregar a base de dados para um objeto pandas.io.excel.ExcelFile\n",
    "excel = pd.ExcelFile(arquivo)\n",
    "# Imprimir o nome das planilhas\n",
    "print(excel.sheet_names)\n",
    "# Carregar a planilha excel para um objeto dataframe\n",
    "dados = excel.parse(0)\n",
    "# Imprimir as cinco primeiras linhas do dataframe\n",
    "dados.head()\n",
    "```"
   ]
  },
  {
   "cell_type": "markdown",
   "metadata": {},
   "source": [
    "## a) (2.0 pontos) Investigando a base de dados\n",
    "\n",
    "1. (0.2 pontos) Quais as colunas da base de dados?\n",
    "2. (0.5 pontos)Quais colunas apresentam valores nulos (faltantes)? Em caso afirmativo, quantas linhas de cada coluna apresentam valores nulos?\n",
    "3. (0.5 pontos) Quantos CEPs diferentes estão presentes na base de dados?\n",
    "4. (0.4 pontos) Quantos alunos foram registrados?\n",
    "5. (0.2 pontos) Qual o período em anos dos registros presentes na base de dados?\n",
    "6. (0.2 ponto) Quantas disciplinas foram analisadas?"
   ]
  },
  {
   "cell_type": "code",
   "execution_count": 1,
   "metadata": {},
   "outputs": [
    {
     "name": "stdout",
     "output_type": "stream",
     "text": [
      "['a_ID', 'CEP', 'ano_ingresso', 'periodo_ingresso', 'status', 'ano_disciplina', 'periodo_disciplina', 'nota', 'disciplina_ID', 'status.disciplina', 'enen-nota']\n"
     ]
    }
   ],
   "source": [
    "import pandas as pd\n",
    "arquivo = 'imd_notas.xlsx'\n",
    "excel = pd.ExcelFile(arquivo)\n",
    "imd_notas = excel.parse(0)\n",
    "imd_columns = imd_notas.columns.tolist()\n",
    "print(imd_columns)"
   ]
  },
  {
   "cell_type": "code",
   "execution_count": 2,
   "metadata": {},
   "outputs": [
    {
     "name": "stdout",
     "output_type": "stream",
     "text": [
      "Colunas com valores faltantes: \n",
      "dict_keys(['a_ID', 'CEP', 'ano_ingresso', 'periodo_ingresso', 'status', 'ano_disciplina', 'periodo_disciplina', 'nota', 'disciplina_ID', 'status.disciplina', 'enen-nota'])\n",
      "Linhas vazias:\n",
      "4841\n",
      "4841\n",
      "4841\n",
      "4841\n",
      "4841\n",
      "4841\n",
      "4841\n",
      "4841\n",
      "4841\n",
      "4841\n",
      "4841\n"
     ]
    }
   ],
   "source": [
    "null_cols = {}\n",
    "for column in imd_columns:\n",
    "    is_null = pd.isnull(imd_notas[column])\n",
    "    null_col = imd_notas[column]\n",
    "    null_col = null_col[1:]\n",
    "    null_cols[column] = null_col\n",
    "print(\"Colunas com valores faltantes: \")\n",
    "print(null_cols.keys())\n",
    "print(\"Linhas vazias:\")\n",
    "for row in null_cols.values():\n",
    "    print(len(row))"
   ]
  },
  {
   "cell_type": "code",
   "execution_count": 3,
   "metadata": {},
   "outputs": [
    {
     "data": {
      "text/plain": [
       "627"
      ]
     },
     "execution_count": 3,
     "metadata": {},
     "output_type": "execute_result"
    }
   ],
   "source": [
    "cep_set = set(imd_notas[\"CEP\"])\n",
    "len(cep_set)"
   ]
  },
  {
   "cell_type": "code",
   "execution_count": 4,
   "metadata": {},
   "outputs": [
    {
     "data": {
      "text/plain": [
       "900"
      ]
     },
     "execution_count": 4,
     "metadata": {},
     "output_type": "execute_result"
    }
   ],
   "source": [
    "alunos_set = set(imd_notas[\"a_ID\"])\n",
    "len(alunos_set)"
   ]
  },
  {
   "cell_type": "markdown",
   "metadata": {},
   "source": [
    "## b) (2.0 pontos) Investigando a localização dos alunos\n",
    "\n",
    "\n",
    "1. (2.0 pontos) Listar a quantidade total de alunos presentes nos cinco CEPs com mais registros.\n",
    "\n",
    "<dica - consultar as funções duplicated() e value_counts()"
   ]
  },
  {
   "cell_type": "code",
   "execution_count": 5,
   "metadata": {},
   "outputs": [
    {
     "data": {
      "text/plain": [
       "895    1\n",
       "488    1\n",
       "545    1\n",
       "549    1\n",
       "476    1\n",
       "Name: a_ID, dtype: int64"
      ]
     },
     "execution_count": 5,
     "metadata": {},
     "output_type": "execute_result"
    }
   ],
   "source": [
    "duplicated = imd_notas.duplicated(\"CEP\")\n",
    "dup_cep = imd_notas[duplicated]\n",
    "dup_cep[\"a_ID\"].value_counts(normalize=False, sort=True, ascending=True).head()"
   ]
  },
  {
   "cell_type": "markdown",
   "metadata": {},
   "source": [
    "## c) (6.0 pontos) Investigando o desempenho das disciplinas\n",
    "\n",
    "1. (1 ponto) Calcular as notas médias para cada disciplina.\n",
    "2. (1,5 pontos) Calcular as notas médias para cada disciplina agrupadas por ano.\n",
    "3. (2,0 pontos) Calcular o número de alunos aprovados e reprovados por disciplina e agrupados por ano.\n",
    "4. (1,5 pontos) Calcular a quantidade de alunos classificados de acordo com a coluna status da base de dados. "
   ]
  },
  {
   "cell_type": "code",
   "execution_count": 11,
   "metadata": {},
   "outputs": [
    {
     "ename": "ValueError",
     "evalue": "Must pass DataFrame with boolean values only",
     "output_type": "error",
     "traceback": [
      "\u001b[0;31m---------------------------------------------------------------------------\u001b[0m",
      "\u001b[0;31mValueError\u001b[0m                                Traceback (most recent call last)",
      "\u001b[0;32m<ipython-input-11-0c2aa46da305>\u001b[0m in \u001b[0;36m<module>\u001b[0;34m()\u001b[0m\n\u001b[1;32m      1\u001b[0m \u001b[0mduplicated\u001b[0m \u001b[0;34m=\u001b[0m \u001b[0mimd_notas\u001b[0m\u001b[0;34m.\u001b[0m\u001b[0mduplicated\u001b[0m\u001b[0;34m(\u001b[0m\u001b[0;34m\"disciplina_ID\"\u001b[0m\u001b[0;34m,\u001b[0m \u001b[0mkeep\u001b[0m\u001b[0;34m=\u001b[0m\u001b[0;32mFalse\u001b[0m\u001b[0;34m)\u001b[0m\u001b[0;34m\u001b[0m\u001b[0m\n\u001b[1;32m      2\u001b[0m \u001b[0mdup_notes\u001b[0m \u001b[0;34m=\u001b[0m \u001b[0mimd_notas\u001b[0m\u001b[0;34m[\u001b[0m\u001b[0mduplicated\u001b[0m\u001b[0;34m]\u001b[0m\u001b[0;34m\u001b[0m\u001b[0m\n\u001b[0;32m----> 3\u001b[0;31m \u001b[0mmeaned_notes\u001b[0m \u001b[0;34m=\u001b[0m \u001b[0;34m[\u001b[0m\u001b[0mitem\u001b[0m \u001b[0;32mfor\u001b[0m \u001b[0mitem\u001b[0m \u001b[0;32min\u001b[0m \u001b[0mimd_notas\u001b[0m\u001b[0;34m[\u001b[0m\u001b[0mdup_notes\u001b[0m\u001b[0;34m]\u001b[0m\u001b[0;34m]\u001b[0m\u001b[0;34m\u001b[0m\u001b[0m\n\u001b[0m\u001b[1;32m      4\u001b[0m \u001b[0mmeaned_notes\u001b[0m\u001b[0;34m\u001b[0m\u001b[0m\n",
      "\u001b[0;32m/home/ilsinhosantos/anaconda3/lib/python3.6/site-packages/pandas/core/frame.py\u001b[0m in \u001b[0;36m__getitem__\u001b[0;34m(self, key)\u001b[0m\n\u001b[1;32m   2056\u001b[0m             \u001b[0;32mreturn\u001b[0m \u001b[0mself\u001b[0m\u001b[0;34m.\u001b[0m\u001b[0m_getitem_array\u001b[0m\u001b[0;34m(\u001b[0m\u001b[0mkey\u001b[0m\u001b[0;34m)\u001b[0m\u001b[0;34m\u001b[0m\u001b[0m\n\u001b[1;32m   2057\u001b[0m         \u001b[0;32melif\u001b[0m \u001b[0misinstance\u001b[0m\u001b[0;34m(\u001b[0m\u001b[0mkey\u001b[0m\u001b[0;34m,\u001b[0m \u001b[0mDataFrame\u001b[0m\u001b[0;34m)\u001b[0m\u001b[0;34m:\u001b[0m\u001b[0;34m\u001b[0m\u001b[0m\n\u001b[0;32m-> 2058\u001b[0;31m             \u001b[0;32mreturn\u001b[0m \u001b[0mself\u001b[0m\u001b[0;34m.\u001b[0m\u001b[0m_getitem_frame\u001b[0m\u001b[0;34m(\u001b[0m\u001b[0mkey\u001b[0m\u001b[0;34m)\u001b[0m\u001b[0;34m\u001b[0m\u001b[0m\n\u001b[0m\u001b[1;32m   2059\u001b[0m         \u001b[0;32melif\u001b[0m \u001b[0mis_mi_columns\u001b[0m\u001b[0;34m:\u001b[0m\u001b[0;34m\u001b[0m\u001b[0m\n\u001b[1;32m   2060\u001b[0m             \u001b[0;32mreturn\u001b[0m \u001b[0mself\u001b[0m\u001b[0;34m.\u001b[0m\u001b[0m_getitem_multilevel\u001b[0m\u001b[0;34m(\u001b[0m\u001b[0mkey\u001b[0m\u001b[0;34m)\u001b[0m\u001b[0;34m\u001b[0m\u001b[0m\n",
      "\u001b[0;32m/home/ilsinhosantos/anaconda3/lib/python3.6/site-packages/pandas/core/frame.py\u001b[0m in \u001b[0;36m_getitem_frame\u001b[0;34m(self, key)\u001b[0m\n\u001b[1;32m   2131\u001b[0m     \u001b[0;32mdef\u001b[0m \u001b[0m_getitem_frame\u001b[0m\u001b[0;34m(\u001b[0m\u001b[0mself\u001b[0m\u001b[0;34m,\u001b[0m \u001b[0mkey\u001b[0m\u001b[0;34m)\u001b[0m\u001b[0;34m:\u001b[0m\u001b[0;34m\u001b[0m\u001b[0m\n\u001b[1;32m   2132\u001b[0m         \u001b[0;32mif\u001b[0m \u001b[0mkey\u001b[0m\u001b[0;34m.\u001b[0m\u001b[0mvalues\u001b[0m\u001b[0;34m.\u001b[0m\u001b[0msize\u001b[0m \u001b[0;32mand\u001b[0m \u001b[0;32mnot\u001b[0m \u001b[0mis_bool_dtype\u001b[0m\u001b[0;34m(\u001b[0m\u001b[0mkey\u001b[0m\u001b[0;34m.\u001b[0m\u001b[0mvalues\u001b[0m\u001b[0;34m)\u001b[0m\u001b[0;34m:\u001b[0m\u001b[0;34m\u001b[0m\u001b[0m\n\u001b[0;32m-> 2133\u001b[0;31m             \u001b[0;32mraise\u001b[0m \u001b[0mValueError\u001b[0m\u001b[0;34m(\u001b[0m\u001b[0;34m'Must pass DataFrame with boolean values only'\u001b[0m\u001b[0;34m)\u001b[0m\u001b[0;34m\u001b[0m\u001b[0m\n\u001b[0m\u001b[1;32m   2134\u001b[0m         \u001b[0;32mreturn\u001b[0m \u001b[0mself\u001b[0m\u001b[0;34m.\u001b[0m\u001b[0mwhere\u001b[0m\u001b[0;34m(\u001b[0m\u001b[0mkey\u001b[0m\u001b[0;34m)\u001b[0m\u001b[0;34m\u001b[0m\u001b[0m\n\u001b[1;32m   2135\u001b[0m \u001b[0;34m\u001b[0m\u001b[0m\n",
      "\u001b[0;31mValueError\u001b[0m: Must pass DataFrame with boolean values only"
     ]
    }
   ],
   "source": [
    "duplicated = imd_notas.duplicated(\"disciplina_ID\", keep=False)\n",
    "dup_notes = imd_notas[duplicated]\n",
    "meaned_notes = [item for item in imd_notas[dup_notes]]\n",
    "meaned_notes"
   ]
  }
 ],
 "metadata": {
  "kernelspec": {
   "display_name": "Python 3",
   "language": "python",
   "name": "python3"
  },
  "language_info": {
   "codemirror_mode": {
    "name": "ipython",
    "version": 3
   },
   "file_extension": ".py",
   "mimetype": "text/x-python",
   "name": "python",
   "nbconvert_exporter": "python",
   "pygments_lexer": "ipython3",
   "version": "3.6.1"
  }
 },
 "nbformat": 4,
 "nbformat_minor": 2
}
