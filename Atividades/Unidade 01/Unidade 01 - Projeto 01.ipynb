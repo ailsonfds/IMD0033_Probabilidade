{
 "cells": [
  {
   "cell_type": "markdown",
   "metadata": {},
   "source": [
    "## Unidade 01 - Projeto 01\n",
    "\n",
    "- **Aluno**: Ailson Forte dos Santos\n",
    "- **Matrícula**: 2016041269"
   ]
  },
  {
   "cell_type": "code",
   "execution_count": 2,
   "metadata": {},
   "outputs": [
    {
     "data": {
      "text/html": [
       "<div>\n",
       "<style>\n",
       "    .dataframe thead tr:only-child th {\n",
       "        text-align: right;\n",
       "    }\n",
       "\n",
       "    .dataframe thead th {\n",
       "        text-align: left;\n",
       "    }\n",
       "\n",
       "    .dataframe tbody tr th {\n",
       "        vertical-align: top;\n",
       "    }\n",
       "</style>\n",
       "<table border=\"1\" class=\"dataframe\">\n",
       "  <thead>\n",
       "    <tr style=\"text-align: right;\">\n",
       "      <th></th>\n",
       "      <th>a_ID</th>\n",
       "      <th>CEP</th>\n",
       "      <th>ano_ingresso</th>\n",
       "      <th>periodo_ingresso</th>\n",
       "      <th>status</th>\n",
       "      <th>ano_disciplina</th>\n",
       "      <th>periodo_disciplina</th>\n",
       "      <th>nota</th>\n",
       "      <th>disciplina_ID</th>\n",
       "      <th>status.disciplina</th>\n",
       "      <th>enen-nota</th>\n",
       "    </tr>\n",
       "  </thead>\n",
       "  <tbody>\n",
       "    <tr>\n",
       "      <th>0</th>\n",
       "      <td>0</td>\n",
       "      <td>59015430</td>\n",
       "      <td>2014</td>\n",
       "      <td>1</td>\n",
       "      <td>CANCELADO</td>\n",
       "      <td>2014</td>\n",
       "      <td>2</td>\n",
       "      <td>2.6</td>\n",
       "      <td>0</td>\n",
       "      <td>Reprovado</td>\n",
       "      <td>618.0</td>\n",
       "    </tr>\n",
       "    <tr>\n",
       "      <th>1</th>\n",
       "      <td>0</td>\n",
       "      <td>59015430</td>\n",
       "      <td>2014</td>\n",
       "      <td>1</td>\n",
       "      <td>CANCELADO</td>\n",
       "      <td>2015</td>\n",
       "      <td>1</td>\n",
       "      <td>8.0</td>\n",
       "      <td>0</td>\n",
       "      <td>Aprovado</td>\n",
       "      <td>618.0</td>\n",
       "    </tr>\n",
       "    <tr>\n",
       "      <th>2</th>\n",
       "      <td>1</td>\n",
       "      <td>59073120</td>\n",
       "      <td>2014</td>\n",
       "      <td>1</td>\n",
       "      <td>CANCELADO</td>\n",
       "      <td>2014</td>\n",
       "      <td>2</td>\n",
       "      <td>0.1</td>\n",
       "      <td>0</td>\n",
       "      <td>Reprovado</td>\n",
       "      <td>615.0</td>\n",
       "    </tr>\n",
       "    <tr>\n",
       "      <th>3</th>\n",
       "      <td>2</td>\n",
       "      <td>59072580</td>\n",
       "      <td>2014</td>\n",
       "      <td>1</td>\n",
       "      <td>ATIVO</td>\n",
       "      <td>2014</td>\n",
       "      <td>2</td>\n",
       "      <td>6.1</td>\n",
       "      <td>0</td>\n",
       "      <td>Aprovado</td>\n",
       "      <td>600.0</td>\n",
       "    </tr>\n",
       "    <tr>\n",
       "      <th>4</th>\n",
       "      <td>3</td>\n",
       "      <td>59088150</td>\n",
       "      <td>2014</td>\n",
       "      <td>1</td>\n",
       "      <td>ATIVO</td>\n",
       "      <td>2014</td>\n",
       "      <td>1</td>\n",
       "      <td>3.0</td>\n",
       "      <td>0</td>\n",
       "      <td>Reprovado</td>\n",
       "      <td>673.0</td>\n",
       "    </tr>\n",
       "  </tbody>\n",
       "</table>\n",
       "</div>"
      ],
      "text/plain": [
       "   a_ID       CEP  ano_ingresso  periodo_ingresso     status  ano_disciplina  \\\n",
       "0     0  59015430          2014                 1  CANCELADO            2014   \n",
       "1     0  59015430          2014                 1  CANCELADO            2015   \n",
       "2     1  59073120          2014                 1  CANCELADO            2014   \n",
       "3     2  59072580          2014                 1      ATIVO            2014   \n",
       "4     3  59088150          2014                 1      ATIVO            2014   \n",
       "\n",
       "   periodo_disciplina  nota  disciplina_ID status.disciplina  enen-nota  \n",
       "0                   2   2.6              0         Reprovado      618.0  \n",
       "1                   1   8.0              0          Aprovado      618.0  \n",
       "2                   2   0.1              0         Reprovado      615.0  \n",
       "3                   2   6.1              0          Aprovado      600.0  \n",
       "4                   1   3.0              0         Reprovado      673.0  "
      ]
     },
     "execution_count": 2,
     "metadata": {},
     "output_type": "execute_result"
    }
   ],
   "source": [
    "import pandas as pd\n",
    "import matplotlib.pyplot as plt\n",
    "arquivo = 'imd_notas.xlsx'\n",
    "excel = pd.ExcelFile(arquivo)\n",
    "dados = excel.parse(0)\n",
    "dados.head()"
   ]
  },
  {
   "cell_type": "markdown",
   "metadata": {},
   "source": [
    "#### 1)  Quantas vezes um aluno precisa fazer uma determinada disicplina para ter aprovação?\n",
    "    a) Por disciplina?\n",
    "    b) Geral (considerando as 7  disciplinas)?"
   ]
  },
  {
   "cell_type": "code",
   "execution_count": 3,
   "metadata": {},
   "outputs": [
    {
     "name": "stdout",
     "output_type": "stream",
     "text": [
      "a)\n",
      "ID Disciplina 0 - 1.3987473903966596\n",
      "ID Disciplina 1 - 1.044414535666218\n",
      "ID Disciplina 2 - 1.2035398230088497\n",
      "ID Disciplina 3 - 1.4821917808219178\n",
      "ID Disciplina 4 - 1.0715421303656598\n",
      "ID Disciplina 5 - 1.497131931166348\n",
      "ID Disciplina 6 - 1.2516129032258065\n",
      "b)\n",
      "1.27845435637878\n"
     ]
    }
   ],
   "source": [
    "discs = []\n",
    "qtd_disc = [] # quantidade de alunos distintos em cada disciplina\n",
    "for i in dados['disciplina_ID'].unique():\n",
    "    discs.append([])\n",
    "    qtd_disc.append([])\n",
    "for row in dados.get_values():\n",
    "    elem = row.tolist()\n",
    "    discs[elem[8]].append(elem)\n",
    "print('a)')\n",
    "for i in dados['disciplina_ID'].unique():\n",
    "    for l in discs[i]:\n",
    "        aluno = l[0]\n",
    "        if aluno not in qtd_disc[i]:\n",
    "            qtd_disc[i].append(aluno)\n",
    "    print('ID Disciplina ' + str(i) + ' - ' + str(len(discs[i])/len(qtd_disc[i])))\n",
    "print('b)')\n",
    "qtd = 0\n",
    "for i in dados['disciplina_ID'].unique():\n",
    "    qtd = qtd + len(discs[i])/len(qtd_disc[i])\n",
    "print(qtd/7)"
   ]
  },
  {
   "cell_type": "markdown",
   "metadata": {},
   "source": [
    "#### 2) Quais as regiões tem mais índices de aprovação nos componentes curriculares? Hist."
   ]
  },
  {
   "cell_type": "code",
   "execution_count": 13,
   "metadata": {},
   "outputs": [],
   "source": [
    "%matplotlib inline\n",
    "# dados.plot(kind='hist',x='status.disciplina',y='CEP',color='green')"
   ]
  },
  {
   "cell_type": "markdown",
   "metadata": {},
   "source": [
    "#### 3) Como estão caracterizados a  estatística de notas das diversas disciplinas que compoe o dataset? Boxplot\n",
    "    a) Período (ano)\n",
    "    b) Geral"
   ]
  },
  {
   "cell_type": "markdown",
   "metadata": {},
   "source": [
    "#### 4) Existe correlação entre as notas dos diferentes componentes curriculares? Dispersão"
   ]
  },
  {
   "cell_type": "code",
   "execution_count": 14,
   "metadata": {},
   "outputs": [
    {
     "data": {
      "text/plain": [
       "<matplotlib.axes._subplots.AxesSubplot at 0x7ffa2818d438>"
      ]
     },
     "execution_count": 14,
     "metadata": {},
     "output_type": "execute_result"
    },
    {
     "data": {
      "image/png": "[encoded data removed]",
      "text/plain": [
       "<matplotlib.figure.Figure at 0x7ffa2b95cd30>"
      ]
     },
     "metadata": {},
     "output_type": "display_data"
    }
   ],
   "source": [
    "dados.plot(kind='scatter',x='disciplina_ID',y='nota')"
   ]
  },
  {
   "cell_type": "markdown",
   "metadata": {},
   "source": [
    "#### 5) Existe uma relação entre o  número médio de disciplinas cursadas por aluno e  o  seu desempenho? Dispersão"
   ]
  },
  {
   "cell_type": "markdown",
   "metadata": {},
   "source": [
    "#### 6) Existe correlação entre a  nota do enen e  o  status do aluno? Hist."
   ]
  },
  {
   "cell_type": "code",
   "execution_count": 17,
   "metadata": {},
   "outputs": [
    {
     "data": {
      "text/plain": [
       "<matplotlib.axes._subplots.AxesSubplot at 0x7ffa27f79160>"
      ]
     },
     "execution_count": 17,
     "metadata": {},
     "output_type": "execute_result"
    },
    {
     "data": {
      "image/png": "[encoded data removed]",
      "text/plain": [
       "<matplotlib.figure.Figure at 0x7ffa27f9e940>"
      ]
     },
     "metadata": {},
     "output_type": "display_data"
    }
   ],
   "source": [
    "dados.plot(kind='hist',x='status',y='enen-nota')"
   ]
  },
  {
   "cell_type": "markdown",
   "metadata": {},
   "source": [
    "#### 7) Existe algum componente curricular na base de dados que possui uma alta correlação com os dados do ENEN? Disperção"
   ]
  }
 ],
 "metadata": {
  "kernelspec": {
   "display_name": "Python 3",
   "language": "python",
   "name": "python3"
  },
  "language_info": {
   "codemirror_mode": {
    "name": "ipython",
    "version": 3
   },
   "file_extension": ".py",
   "mimetype": "text/x-python",
   "name": "python",
   "nbconvert_exporter": "python",
   "pygments_lexer": "ipython3",
   "version": "3.6.1"
  }
 },
 "nbformat": 4,
 "nbformat_minor": 2
}
