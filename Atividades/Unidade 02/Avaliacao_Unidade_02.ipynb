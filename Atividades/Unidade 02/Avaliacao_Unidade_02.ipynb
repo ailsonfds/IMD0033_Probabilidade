{
 "cells": [
  {
   "cell_type": "markdown",
   "metadata": {},
   "source": [
    "Avaliação - Unidade 02\n",
    "==="
   ]
  },
  {
   "cell_type": "markdown",
   "metadata": {},
   "source": [
    "Identificação dos alunos (nome completo): \n",
    "\n",
    "- Este trabalho irá compor 40% da segunda unidade.\n",
    "- Grupo de até dois alunos.\n",
    "- Os alunos deverão enviar (apenas um por grupo) através do Sigaa, o notebook e os datasets gerados na avaliação em um arquivo compactado (.zip). \n",
    "- Todas as respostas devem ser realizadas através de código python e os resultados explicados em estilo markdown\n",
    "- As informações (datasets) necessárias para resolução dos problemas podem ser encontradas em http://dados.ufrn.br/group/ensino\n"
   ]
  },
  {
   "cell_type": "markdown",
   "metadata": {},
   "source": [
    "1. (1 ponto) Quantas e quais disciplinas com código IMD foram consolidadas em 2017.1? \n",
    "**Dica:** \n",
    ">```python\n",
    "df[df['A'].str.contains(\"hello\")]\n",
    "```\n",
    "2. (3 pontos) Realize um estudo envolvendo as propriedades de **assimétria** e **curtose** para as turmas IMD0033 (probabilidade) consolidadas em 2017.1. Utilize gráficos e explique os resultados. Reforce também os horários das disciplinas nos resultados. \n",
    "3. (3 pontos) Utilize a biblioteca seaborn para traçar gráficos que descrevam as distribuições estatísticas (utilizar as funções **facetgrid** e **map**) de todas as turmas IMD0030 (Linguagem de Programação I) consolidas em 2017.1. Na análise, assuma como referência as médias finais e a situação dos alunos. \n",
    "4. (3 pontos) Utilize a biblioteca seaborn para traçar gráficos de histograma referente as médias finais de todas as turmas IMD0029 (Estrutura de dados I) consolidadas em 2017.1. Incremente nos gráficos linhas que descrevam a média e mediana da distribuição. "
   ]
  },
  {
   "cell_type": "code",
   "execution_count": 38,
   "metadata": {},
   "outputs": [
    {
     "name": "stdout",
     "output_type": "stream",
     "text": [
      "1. Foram consolidadas 93 turmas:\n",
      "['IMD0019' 'IMD0017' 'IMD0018' 'IMD0020' 'IMD0012.0' 'IMD0012.1' 'IMD0024'\n",
      " 'IMD0027' 'IMD0028' 'IMD0034' 'IMD0029' 'IMD0030' 'IMD0033' 'IMD0038'\n",
      " 'IMD0039' 'IMD0040' 'IMD0041' 'IMD0105' 'IMD0308' 'IMD0319' 'IMD0322'\n",
      " 'IMD0323' 'IMD0324' 'IMD0328' 'IMD0403' 'IMD0405' 'IMD0408' 'IMD0409'\n",
      " 'IMD0414' 'IMD0415' 'IMD0423' 'IMD0505' 'IMD0506' 'IMD0512' 'IMD0517'\n",
      " 'IMD0524' 'IMD0701' 'IMD0705' 'IMD0822' 'IMD0521' 'IMD0043' 'IMD0110'\n",
      " 'IMD0709' 'IMD0725' 'IMD0271' 'IMD0707' 'IMD0708' 'IMD0086' 'IMD0081'\n",
      " 'IMD0079' 'IMD0090' 'IMD0082']\n"
     ]
    }
   ],
   "source": [
    "import pandas as pd\n",
    "import numpy as np\n",
    "turmas = pd.read_csv('turmas-2017.1.csv',sep=';')\n",
    "turmas_imd = turmas[turmas['codigo'].str.contains('IMD')]\n",
    "##1\n",
    "turmas_imd_cons = turmas_imd[turmas_imd['situacao_turma'].str.contains('CONSOLIDADA')]\n",
    "turmas_imd_cons = turmas_imd_cons[~turmas_imd_cons.duplicated('id_turma')]\n",
    "print('1. Foram consolidadas ' + str(len(turmas_imd_cons)) + ' turmas:')\n",
    "print(turmas_imd_cons['codigo'].unique())"
   ]
  }
 ],
 "metadata": {
  "kernelspec": {
   "display_name": "Python 3",
   "language": "python",
   "name": "python3"
  },
  "language_info": {
   "codemirror_mode": {
    "name": "ipython",
    "version": 3
   },
   "file_extension": ".py",
   "mimetype": "text/x-python",
   "name": "python",
   "nbconvert_exporter": "python",
   "pygments_lexer": "ipython3",
   "version": "3.6.1"
  }
 },
 "nbformat": 4,
 "nbformat_minor": 2
}
