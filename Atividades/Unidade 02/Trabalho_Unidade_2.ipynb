{
 "cells": [
  {
   "cell_type": "markdown",
   "metadata": {},
   "source": [
    "## Unidade 2 - Trabalho 1\n",
    "### Alunos: Ailson Forte dos Santos e Ana Paula\n",
    "#### Criar gráficos Z-Score com a probabilidade da área em verde similar a figura ao lado e relacionado com as notas da primeira, segunda, terceira unidades e média final das disciplinas:\n",
    "- FMC I, FMC II e Probabilidade do BTI\n",
    "- Para testes, escolha as notas 5.0, 7.0 e 9.0\n",
    "- Utilizar os dados disponibilizados em \"dados.ufrn.br\""
   ]
  },
  {
   "cell_type": "code",
   "execution_count": 1,
   "metadata": {
    "collapsed": true
   },
   "outputs": [],
   "source": [
    "## Importando o necessário\n",
    "import pandas as pd\n",
    "\n",
    "## Definindo URLs necessárias\n",
    "componentes_url = 'http://bit.do/componentes-curriculares'\n",
    "componentes_disc_url = 'http://bit.ly/2yIvZLs' #'http://bit.do/componentes_curriculares_presenciais'\n",
    "turmas_url = [('http://bit.do/turmas_20' + str(13+i) + '_1') for i in range(5)]\n",
    "turmas_url = turmas_url + [('http://bit.do/turmas_20' + str(13+i) + '_2') for i in range(5)]\n",
    "mat_comp_url = [('http://bit.do/mat_comp_20' + str(13+i) + '_1') for i in range(5)]\n",
    "mat_comp_url = mat_comp_url + [('http://bit.do/mat_comp_20' + str(13+i) + '_2') for i in range(5)]\n",
    "turmas_periodo = [('20' + str(13+i) + '.1') for i in range(5)]\n",
    "turmas_periodo = turmas_periodo + [('20' + str(13+i) + '.2') for i in range(5)]"
   ]
  },
  {
   "cell_type": "code",
   "execution_count": 2,
   "metadata": {
    "collapsed": true
   },
   "outputs": [],
   "source": [
    "componentes = pd.read_csv(componentes_url,';')"
   ]
  },
  {
   "cell_type": "code",
   "execution_count": 3,
   "metadata": {
    "collapsed": true
   },
   "outputs": [],
   "source": [
    "disciplinas = pd.read_csv(componentes_disc_url,';')"
   ]
  },
  {
   "cell_type": "code",
   "execution_count": 5,
   "metadata": {},
   "outputs": [
    {
     "name": "stdout",
     "output_type": "stream",
     "text": [
      "http://bit.do/turmas_2013_1\n",
      "http://bit.do/turmas_2014_1\n",
      "http://bit.do/turmas_2015_1\n",
      "http://bit.do/turmas_2016_1\n",
      "http://bit.do/turmas_2017_1\n",
      "http://bit.do/turmas_2013_2\n",
      "http://bit.do/turmas_2014_2\n",
      "http://bit.do/turmas_2015_2\n",
      "http://bit.do/turmas_2016_2\n",
      "http://bit.do/turmas_2017_2\n"
     ]
    }
   ],
   "source": [
    "## Fazendo Download dos CSVs das turmas\n",
    "turmas_dfs = []\n",
    "for url in turmas_url:\n",
    "    print(url)\n",
    "    turmas_dfs.append(pd.read_csv(url,';'))"
   ]
  },
  {
   "cell_type": "code",
   "execution_count": 6,
   "metadata": {},
   "outputs": [
    {
     "name": "stdout",
     "output_type": "stream",
     "text": [
      "http://bit.do/mat_comp_2013_1\n",
      "http://bit.do/mat_comp_2014_1\n",
      "http://bit.do/mat_comp_2015_1\n",
      "http://bit.do/mat_comp_2016_1\n",
      "http://bit.do/mat_comp_2017_1\n",
      "http://bit.do/mat_comp_2013_2\n",
      "http://bit.do/mat_comp_2014_2\n",
      "http://bit.do/mat_comp_2015_2\n",
      "http://bit.do/mat_comp_2016_2\n",
      "http://bit.do/mat_comp_2017_2\n"
     ]
    }
   ],
   "source": [
    "## Fazendo Download dos CSVs das matriculas em componente curricular\n",
    "mat_comp_dfs = []\n",
    "for url in mat_comp_url:\n",
    "    print(url)\n",
    "    mat_comp_dfs.append(pd.read_csv(url,';'))"
   ]
  },
  {
   "cell_type": "code",
   "execution_count": 7,
   "metadata": {},
   "outputs": [
    {
     "data": {
      "text/html": [
       "<div>\n",
       "<style>\n",
       "    .dataframe thead tr:only-child th {\n",
       "        text-align: right;\n",
       "    }\n",
       "\n",
       "    .dataframe thead th {\n",
       "        text-align: left;\n",
       "    }\n",
       "\n",
       "    .dataframe tbody tr th {\n",
       "        vertical-align: top;\n",
       "    }\n",
       "</style>\n",
       "<table border=\"1\" class=\"dataframe\">\n",
       "  <thead>\n",
       "    <tr style=\"text-align: right;\">\n",
       "      <th></th>\n",
       "      <th>id_curso</th>\n",
       "      <th>nome</th>\n",
       "      <th>id_coordenador</th>\n",
       "      <th>coordenador</th>\n",
       "      <th>situacao_curso</th>\n",
       "      <th>nivel_ensino</th>\n",
       "      <th>grau_academico</th>\n",
       "      <th>modalidade_educacao</th>\n",
       "      <th>area_conhecimento</th>\n",
       "      <th>tipo_oferta</th>\n",
       "      <th>...</th>\n",
       "      <th>municipio</th>\n",
       "      <th>campus</th>\n",
       "      <th>id_unidade_responsavel</th>\n",
       "      <th>unidade_responsavel</th>\n",
       "      <th>website</th>\n",
       "      <th>data_funcionamento</th>\n",
       "      <th>codigo_inep</th>\n",
       "      <th>dou</th>\n",
       "      <th>portaria_reconhecimento</th>\n",
       "      <th>convenio_academico</th>\n",
       "    </tr>\n",
       "  </thead>\n",
       "  <tbody>\n",
       "    <tr>\n",
       "      <th>0</th>\n",
       "      <td>92127264</td>\n",
       "      <td>TECNOLOGIA DA INFORMAÇÃO</td>\n",
       "      <td>5756802.0</td>\n",
       "      <td>GUSTAVO GIRAO BARRETO DA SILVA</td>\n",
       "      <td>ATIVO</td>\n",
       "      <td>GRADUAÇÃO</td>\n",
       "      <td>BACHARELADO</td>\n",
       "      <td>Presencial</td>\n",
       "      <td>Ciências Exatas e da Terra</td>\n",
       "      <td>Regular</td>\n",
       "      <td>...</td>\n",
       "      <td>NATAL</td>\n",
       "      <td>NaN</td>\n",
       "      <td>6069</td>\n",
       "      <td>INSTITUTO METROPOLE DIGITAL</td>\n",
       "      <td>NaN</td>\n",
       "      <td>NaN</td>\n",
       "      <td>1190414.0</td>\n",
       "      <td>2016-05-02</td>\n",
       "      <td>Portaria nº 127/2016 - MEC</td>\n",
       "      <td>NaN</td>\n",
       "    </tr>\n",
       "  </tbody>\n",
       "</table>\n",
       "<p>1 rows × 22 columns</p>\n",
       "</div>"
      ],
      "text/plain": [
       "   id_curso                      nome  id_coordenador  \\\n",
       "0  92127264  TECNOLOGIA DA INFORMAÇÃO       5756802.0   \n",
       "\n",
       "                      coordenador situacao_curso nivel_ensino grau_academico  \\\n",
       "0  GUSTAVO GIRAO BARRETO DA SILVA          ATIVO    GRADUAÇÃO    BACHARELADO   \n",
       "\n",
       "  modalidade_educacao           area_conhecimento tipo_oferta  \\\n",
       "0          Presencial  Ciências Exatas e da Terra     Regular   \n",
       "\n",
       "         ...         municipio campus id_unidade_responsavel  \\\n",
       "0        ...             NATAL    NaN                   6069   \n",
       "\n",
       "           unidade_responsavel  website data_funcionamento codigo_inep  \\\n",
       "0  INSTITUTO METROPOLE DIGITAL      NaN                NaN   1190414.0   \n",
       "\n",
       "          dou     portaria_reconhecimento convenio_academico  \n",
       "0  2016-05-02  Portaria nº 127/2016 - MEC                NaN  \n",
       "\n",
       "[1 rows x 22 columns]"
      ]
     },
     "execution_count": 7,
     "metadata": {},
     "output_type": "execute_result"
    }
   ],
   "source": [
    "## Filtrando apenas o componente BTI\n",
    "bti = componentes[componentes['nome'] == 'TECNOLOGIA DA INFORMAÇÃO']\n",
    "bti.reset_index(drop='index',inplace=True)\n",
    "bti.head()"
   ]
  },
  {
   "cell_type": "code",
   "execution_count": 17,
   "metadata": {},
   "outputs": [
    {
     "name": "stdout",
     "output_type": "stream",
     "text": [
      "Index(['id_componente', 'tipo_componente', 'codigo', 'nivel', 'nome',\n",
      "       'unidade_responsavel', 'ch_teorico', 'ch_pratico', 'ch_estagio',\n",
      "       'ch_total', 'ch_dedicada_docente', 'ch_ead', 'cr_max_ead',\n",
      "       'permite_horario_flexivel', 'qtd_unidades', 'procedimentos_avaliacao',\n",
      "       'equivalencia', 'pre_requisito', 'co_requisito', 'ementa',\n",
      "       'bibliografia', 'objetivos', 'conteudo', 'competencias_habilidades',\n",
      "       'referencias', 'ano_programa', 'periodo_programa', 'modalidade',\n",
      "       'curso_componente'],\n",
      "      dtype='object')\n"
     ]
    },
    {
     "data": {
      "text/html": [
       "<div>\n",
       "<style>\n",
       "    .dataframe thead tr:only-child th {\n",
       "        text-align: right;\n",
       "    }\n",
       "\n",
       "    .dataframe thead th {\n",
       "        text-align: left;\n",
       "    }\n",
       "\n",
       "    .dataframe tbody tr th {\n",
       "        vertical-align: top;\n",
       "    }\n",
       "</style>\n",
       "<table border=\"1\" class=\"dataframe\">\n",
       "  <thead>\n",
       "    <tr style=\"text-align: right;\">\n",
       "      <th></th>\n",
       "      <th>id_componente</th>\n",
       "      <th>tipo_componente</th>\n",
       "      <th>codigo</th>\n",
       "      <th>nivel</th>\n",
       "      <th>nome</th>\n",
       "      <th>unidade_responsavel</th>\n",
       "      <th>ch_teorico</th>\n",
       "      <th>ch_pratico</th>\n",
       "      <th>ch_estagio</th>\n",
       "      <th>ch_total</th>\n",
       "      <th>...</th>\n",
       "      <th>ementa</th>\n",
       "      <th>bibliografia</th>\n",
       "      <th>objetivos</th>\n",
       "      <th>conteudo</th>\n",
       "      <th>competencias_habilidades</th>\n",
       "      <th>referencias</th>\n",
       "      <th>ano_programa</th>\n",
       "      <th>periodo_programa</th>\n",
       "      <th>modalidade</th>\n",
       "      <th>curso_componente</th>\n",
       "    </tr>\n",
       "  </thead>\n",
       "  <tbody>\n",
       "    <tr>\n",
       "      <th>17834</th>\n",
       "      <td>51954</td>\n",
       "      <td>MODULO</td>\n",
       "      <td>IMD0001</td>\n",
       "      <td>L</td>\n",
       "      <td>INOVAÇÃO TECNOLÓGICA</td>\n",
       "      <td>INSTITUTO METROPOLE DIGITAL</td>\n",
       "      <td>15</td>\n",
       "      <td>0</td>\n",
       "      <td>0</td>\n",
       "      <td>15</td>\n",
       "      <td>...</td>\n",
       "      <td>...</td>\n",
       "      <td>NaN</td>\n",
       "      <td>NaN</td>\n",
       "      <td>NaN</td>\n",
       "      <td>NaN</td>\n",
       "      <td>NaN</td>\n",
       "      <td>NaN</td>\n",
       "      <td>NaN</td>\n",
       "      <td>Presencial</td>\n",
       "      <td>RESIDÊNCIA EM ENGENHARIA DE SOFTWARE</td>\n",
       "    </tr>\n",
       "    <tr>\n",
       "      <th>18093</th>\n",
       "      <td>52247</td>\n",
       "      <td>MODULO</td>\n",
       "      <td>IMD0002</td>\n",
       "      <td>L</td>\n",
       "      <td>INOVAÇÃO TECNOLÓGICA</td>\n",
       "      <td>INSTITUTO METROPOLE DIGITAL</td>\n",
       "      <td>30</td>\n",
       "      <td>0</td>\n",
       "      <td>0</td>\n",
       "      <td>30</td>\n",
       "      <td>...</td>\n",
       "      <td>Conceito de inovação. Tipos de inovação. Relaç...</td>\n",
       "      <td>NaN</td>\n",
       "      <td>NaN</td>\n",
       "      <td>NaN</td>\n",
       "      <td>NaN</td>\n",
       "      <td>NaN</td>\n",
       "      <td>NaN</td>\n",
       "      <td>NaN</td>\n",
       "      <td>Presencial</td>\n",
       "      <td>RESIDÊNCIA EM ENGENHARIA DE SOFTWARE</td>\n",
       "    </tr>\n",
       "    <tr>\n",
       "      <th>18094</th>\n",
       "      <td>52248</td>\n",
       "      <td>MODULO</td>\n",
       "      <td>IMD0003</td>\n",
       "      <td>L</td>\n",
       "      <td>PROCESSO E QUALIDADE DE SOFTWARE</td>\n",
       "      <td>INSTITUTO METROPOLE DIGITAL</td>\n",
       "      <td>30</td>\n",
       "      <td>0</td>\n",
       "      <td>0</td>\n",
       "      <td>30</td>\n",
       "      <td>...</td>\n",
       "      <td>Modelos e Processos de Software utilizados no ...</td>\n",
       "      <td>NaN</td>\n",
       "      <td>NaN</td>\n",
       "      <td>NaN</td>\n",
       "      <td>NaN</td>\n",
       "      <td>NaN</td>\n",
       "      <td>NaN</td>\n",
       "      <td>NaN</td>\n",
       "      <td>Presencial</td>\n",
       "      <td>RESIDÊNCIA EM ENGENHARIA DE SOFTWARE</td>\n",
       "    </tr>\n",
       "    <tr>\n",
       "      <th>18095</th>\n",
       "      <td>52249</td>\n",
       "      <td>MODULO</td>\n",
       "      <td>IMD0004</td>\n",
       "      <td>L</td>\n",
       "      <td>GERÊNCIA DE PROJETOS</td>\n",
       "      <td>INSTITUTO METROPOLE DIGITAL</td>\n",
       "      <td>30</td>\n",
       "      <td>0</td>\n",
       "      <td>0</td>\n",
       "      <td>30</td>\n",
       "      <td>...</td>\n",
       "      <td>Planejamento de projetos. Balanced Scorecard. ...</td>\n",
       "      <td>NaN</td>\n",
       "      <td>NaN</td>\n",
       "      <td>NaN</td>\n",
       "      <td>NaN</td>\n",
       "      <td>NaN</td>\n",
       "      <td>NaN</td>\n",
       "      <td>NaN</td>\n",
       "      <td>Presencial</td>\n",
       "      <td>RESIDÊNCIA EM ENGENHARIA DE SOFTWARE</td>\n",
       "    </tr>\n",
       "    <tr>\n",
       "      <th>18235</th>\n",
       "      <td>52390</td>\n",
       "      <td>MODULO</td>\n",
       "      <td>IMD0005</td>\n",
       "      <td>L</td>\n",
       "      <td>INOVAÇÃO TECNOLÓGICA</td>\n",
       "      <td>INSTITUTO METROPOLE DIGITAL</td>\n",
       "      <td>15</td>\n",
       "      <td>0</td>\n",
       "      <td>0</td>\n",
       "      <td>15</td>\n",
       "      <td>...</td>\n",
       "      <td>Conceito de inovação. Tipos de inovação. Relaç...</td>\n",
       "      <td>NaN</td>\n",
       "      <td>NaN</td>\n",
       "      <td>NaN</td>\n",
       "      <td>NaN</td>\n",
       "      <td>NaN</td>\n",
       "      <td>NaN</td>\n",
       "      <td>NaN</td>\n",
       "      <td>Presencial</td>\n",
       "      <td>RESIDÊNCIA EM ENGENHARIA DE SOFTWARE</td>\n",
       "    </tr>\n",
       "  </tbody>\n",
       "</table>\n",
       "<p>5 rows × 29 columns</p>\n",
       "</div>"
      ],
      "text/plain": [
       "       id_componente tipo_componente   codigo nivel  \\\n",
       "17834          51954          MODULO  IMD0001     L   \n",
       "18093          52247          MODULO  IMD0002     L   \n",
       "18094          52248          MODULO  IMD0003     L   \n",
       "18095          52249          MODULO  IMD0004     L   \n",
       "18235          52390          MODULO  IMD0005     L   \n",
       "\n",
       "                                   nome          unidade_responsavel  \\\n",
       "17834              INOVAÇÃO TECNOLÓGICA  INSTITUTO METROPOLE DIGITAL   \n",
       "18093              INOVAÇÃO TECNOLÓGICA  INSTITUTO METROPOLE DIGITAL   \n",
       "18094  PROCESSO E QUALIDADE DE SOFTWARE  INSTITUTO METROPOLE DIGITAL   \n",
       "18095              GERÊNCIA DE PROJETOS  INSTITUTO METROPOLE DIGITAL   \n",
       "18235              INOVAÇÃO TECNOLÓGICA  INSTITUTO METROPOLE DIGITAL   \n",
       "\n",
       "       ch_teorico  ch_pratico  ch_estagio  ch_total  \\\n",
       "17834          15           0           0        15   \n",
       "18093          30           0           0        30   \n",
       "18094          30           0           0        30   \n",
       "18095          30           0           0        30   \n",
       "18235          15           0           0        15   \n",
       "\n",
       "                       ...                   \\\n",
       "17834                  ...                    \n",
       "18093                  ...                    \n",
       "18094                  ...                    \n",
       "18095                  ...                    \n",
       "18235                  ...                    \n",
       "\n",
       "                                                  ementa  bibliografia  \\\n",
       "17834                                                ...           NaN   \n",
       "18093  Conceito de inovação. Tipos de inovação. Relaç...           NaN   \n",
       "18094  Modelos e Processos de Software utilizados no ...           NaN   \n",
       "18095  Planejamento de projetos. Balanced Scorecard. ...           NaN   \n",
       "18235  Conceito de inovação. Tipos de inovação. Relaç...           NaN   \n",
       "\n",
       "       objetivos conteudo  competencias_habilidades referencias ano_programa  \\\n",
       "17834        NaN      NaN                       NaN         NaN          NaN   \n",
       "18093        NaN      NaN                       NaN         NaN          NaN   \n",
       "18094        NaN      NaN                       NaN         NaN          NaN   \n",
       "18095        NaN      NaN                       NaN         NaN          NaN   \n",
       "18235        NaN      NaN                       NaN         NaN          NaN   \n",
       "\n",
       "      periodo_programa  modalidade                      curso_componente  \n",
       "17834              NaN  Presencial  RESIDÊNCIA EM ENGENHARIA DE SOFTWARE  \n",
       "18093              NaN  Presencial  RESIDÊNCIA EM ENGENHARIA DE SOFTWARE  \n",
       "18094              NaN  Presencial  RESIDÊNCIA EM ENGENHARIA DE SOFTWARE  \n",
       "18095              NaN  Presencial  RESIDÊNCIA EM ENGENHARIA DE SOFTWARE  \n",
       "18235              NaN  Presencial  RESIDÊNCIA EM ENGENHARIA DE SOFTWARE  \n",
       "\n",
       "[5 rows x 29 columns]"
      ]
     },
     "execution_count": 17,
     "metadata": {},
     "output_type": "execute_result"
    }
   ],
   "source": [
    "print(disciplinas.columns)\n",
    "disciplinas.head()"
   ]
  },
  {
   "cell_type": "code",
   "execution_count": 15,
   "metadata": {},
   "outputs": [],
   "source": [
    "disc_cols = ['id_componente', 'tipo_componente', 'codigo', 'nivel', 'nome',\n",
    "             'ch_total', 'permite_horario_flexivel', 'qtd_unidades', 'procedimentos_avaliacao',\n",
    "             'ano_programa', 'periodo_programa', 'modalidade', 'curso_componente']\n",
    "disciplinas = disciplinas[disciplinas['codigo'].str.contains('IMD')]"
   ]
  },
  {
   "cell_type": "code",
   "execution_count": null,
   "metadata": {
    "collapsed": true
   },
   "outputs": [],
   "source": [
    "## Fazendo a concatenação para trabalhar apenas com um DataFrame\n",
    "turmas_df = pd.concat(turmas_dfs, keys=turmas_periodo)\n",
    "## Filtrando o DataFrame para otimizar as buscas\n",
    "turmas_df = turmas_df[turmas_df['nivel_ensino'] == 'GRADUAÇÃO']\n",
    "turmas_df = turmas_df[turmas_df['modalidade_participantes'] == 'Presencial']\n",
    "turmas_df = turmas_df[turmas_df['campus_turma'] == 'Campus Central']\n",
    "turmas_df.reset_index(inplace=True,level=0)\n",
    "turmas_df.reset_index(inplace=True,drop='index')\n",
    "turmas_df['ano_periodo'] = turmas_df.level_0\n",
    "print(turmas_df.columns)"
   ]
  },
  {
   "cell_type": "code",
   "execution_count": null,
   "metadata": {
    "collapsed": true
   },
   "outputs": [],
   "source": [
    "colunas_turma = ['id_turma', 'codigo_turma', 'id_docente_interno', 'id_docente_externo', 'id_componente_curricular',\n",
    "                 'ano_periodo', 'descricao_horario', 'tipo', 'situacao_turma']\n",
    "turmas_df = turmas_df[colunas_turma]\n",
    "turmas_df.reset_index(inplace=True,drop='index')\n",
    "turmas_df.head()"
   ]
  },
  {
   "cell_type": "code",
   "execution_count": null,
   "metadata": {
    "collapsed": true
   },
   "outputs": [],
   "source": [
    "## Fazendo a concatenação para trabalhar com apenas um DataFrame\n",
    "mat_comp_df = pd.concat(mat_comp_dfs, keys=turmas_periodo)\n",
    "mat_comp_df.reset_index(inplace=True,level=0)\n",
    "mat_comp_df.reset_index(inplace=True,drop='index')\n",
    "mat_comp_df['ano_periodo'] = mat_comp_df.level_0\n",
    "print(mat_comp_df.columns)"
   ]
  },
  {
   "cell_type": "code",
   "execution_count": null,
   "metadata": {
    "collapsed": true
   },
   "outputs": [],
   "source": [
    "## Filtrando pelo id do bti\n",
    "mat_comp_bti = mat_comp_df[mat_comp_df['id_curso'] == bti['id_curso'][0]]\n",
    "## Limpando DataFrame\n",
    "colunas_mat_comp_bti = ['id_turma', 'descricao', 'discente', 'media_final',\n",
    "                        'nota', 'reposicao', 'unidade', 'ano_periodo']\n",
    "mat_comp_bti = mat_comp_bti[colunas_mat_comp_bti]\n",
    "mat_comp_bti.reset_index(inplace=True,drop='index')\n",
    "mat_comp_bti.head()"
   ]
  },
  {
   "cell_type": "code",
   "execution_count": null,
   "metadata": {
    "collapsed": true
   },
   "outputs": [],
   "source": []
  }
 ],
 "metadata": {
  "kernelspec": {
   "display_name": "Python 3",
   "language": "python",
   "name": "python3"
  },
  "language_info": {
   "codemirror_mode": {
    "name": "ipython",
    "version": 3
   },
   "file_extension": ".py",
   "mimetype": "text/x-python",
   "name": "python",
   "nbconvert_exporter": "python",
   "pygments_lexer": "ipython3",
   "version": "3.6.1"
  }
 },
 "nbformat": 4,
 "nbformat_minor": 2
}
