{
 "cells": [
  {
   "cell_type": "code",
   "execution_count": 11,
   "metadata": {},
   "outputs": [
    {
     "data": {
      "text/plain": [
       "['http://bit.do/turmas_2013_1',\n",
       " 'http://bit.do/turmas_2014_1',\n",
       " 'http://bit.do/turmas_2015_1',\n",
       " 'http://bit.do/turmas_2016_1',\n",
       " 'http://bit.do/turmas_2017_1']"
      ]
     },
     "execution_count": 11,
     "metadata": {},
     "output_type": "execute_result"
    }
   ],
   "source": [
    "turmas_url = [('http://bit.do/turmas_20' + str(13+i) + '_1') for i in range(5)]\n",
    "turmas_url"
   ]
  }
 ],
 "metadata": {
  "kernelspec": {
   "display_name": "Python 3",
   "language": "python",
   "name": "python3"
  },
  "language_info": {
   "codemirror_mode": {
    "name": "ipython",
    "version": 3
   },
   "file_extension": ".py",
   "mimetype": "text/x-python",
   "name": "python",
   "nbconvert_exporter": "python",
   "pygments_lexer": "ipython3",
   "version": "3.6.1"
  }
 },
 "nbformat": 4,
 "nbformat_minor": 2
}
